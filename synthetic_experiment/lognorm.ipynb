{
 "cells": [
  {
   "cell_type": "code",
   "execution_count": 1,
   "metadata": {},
   "outputs": [],
   "source": [
    "import numpy as np\n",
    "from scipy.stats import lognorm, uniform\n",
    "import matplotlib.pyplot as plt\n",
    "from scipy import integrate\n",
    "\n",
    "ctr_boost = np.array([1, 1.1, 1.2, 1.3])\n",
    "cvr_boost = np.array([1, 1.1, 1.2, 1.3])\n",
    "voucher = np.array([0, 2, 4, 8])\n",
    "ctrs = np.random.uniform(0.005, 0.5, (50, 8))\n",
    "cvrs = np.random.uniform(0.005, 0.5, (50, 8))\n",
    "valuations = np.random.uniform(5, 50, (50, 8))"
   ]
  },
  {
   "cell_type": "code",
   "execution_count": 17,
   "metadata": {},
   "outputs": [
    {
     "data": {
      "text/plain": [
       "[<matplotlib.lines.Line2D at 0x77f59ff62910>]"
      ]
     },
     "execution_count": 17,
     "metadata": {},
     "output_type": "execute_result"
    },
    {
     "data": {
      "image/png": "[encoded data removed]",
      "text/plain": [
       "<Figure size 640x480 with 1 Axes>"
      ]
     },
     "metadata": {},
     "output_type": "display_data"
    }
   ],
   "source": [
    "x = np.linspace(lognorm.ppf(0.01, s = 1, scale=np.exp(3.8)), lognorm.ppf(0.99, s = 1, scale = np.exp(3.8)), 1000).reshape(-1, 1)\n",
    "def virtual_value(v):\n",
    "    return v - ((1 - lognorm.cdf(v, s = 1, scale = np.exp(3))) / lognorm.pdf(v, s = 1, scale = np.exp(3)))\n",
    "y = lognorm.pdf(x, s = 1, scale=np.exp(3.8))\n",
    "fig, ax = plt.subplots(1, 1)\n",
    "ax.plot(x, y, 'r-', lw = 5, alpha = 0.6)"
   ]
  },
  {
   "cell_type": "code",
   "execution_count": 19,
   "metadata": {},
   "outputs": [
    {
     "name": "stdout",
     "output_type": "stream",
     "text": [
      "3.7883376817072776\n"
     ]
    }
   ],
   "source": [
    "v = lognorm.rvs(size=(10000, 1), s = 1, scale = np.exp(3.8))\n",
    "t = np.mean(v)\n",
    "\n",
    "mu = np.log(t) - 0.5\n",
    "print(mu)"
   ]
  },
  {
   "cell_type": "code",
   "execution_count": 11,
   "metadata": {},
   "outputs": [],
   "source": [
    "def find_index(value_list, k):\n",
    "    l, r = 0, len(value_list) - 1\n",
    "    while(l < r):\n",
    "        mid = (l + r + 1) // 2\n",
    "        if value_list[mid] > k:\n",
    "            r = mid - 1\n",
    "        else:\n",
    "            l = mid\n",
    "    return l"
   ]
  },
  {
   "cell_type": "code",
   "execution_count": 4,
   "metadata": {},
   "outputs": [],
   "source": [
    "virtual_value_list = virtual_value(x)"
   ]
  },
  {
   "cell_type": "code",
   "execution_count": 22,
   "metadata": {},
   "outputs": [],
   "source": [
    "def allocation_rule(ctr, cvr):\n",
    "    allocations = []\n",
    "    generalized_virtual = []\n",
    "\n",
    "    best_voucher_arg = np.argmax(ctr_boost * ctr * virtual_value(x) - cvr_boost * cvr * voucher, axis = -1)\n",
    "    generalized_virtual = np.max(ctr_boost * ctr * virtual_value(x) - cvr_boost * cvr * voucher, axis = -1)\n",
    "    flag = generalized_virtual > 0\n",
    "    allocations = ctr * ctr_boost[best_voucher_arg]\n",
    "    allocations = allocations * flag\n",
    "    # for i in x:\n",
    "    #     best_voucher_arg = np.argmax(ctr_boost * ctr * virtual_value(x) - cvr_boost * cvr * voucher, axis = -1)\n",
    "    #     best_voucher = voucher[best_voucher_arg]\n",
    "    #     generalized_virtual.append(np.max(ctr * ctr_boost * (virtual_value(i) - cvr_boost * cvr * voucher)))\n",
    "    #     if virtual_value(i) < 0:\n",
    "    #         allocations.append(0)\n",
    "    #     else:\n",
    "    #         allocations.append(ctr * ctr_boost[best_voucher_arg])\n",
    "    return allocations\n",
    "\n",
    "def simulate_an_auction(n):\n",
    "   '''\n",
    "      n bidders\n",
    "   '''\n",
    "   ctrs = np.random.uniform(0.005, 0.5, (n, 1))\n",
    "   cvrs = np.random.uniform(0.005, 0.5, (n, 1))\n",
    "   valuations = lognorm.rvs(s=1, scale=np.exp(3), size=(n, 1))\n",
    "   best_voucher_arg = np.argmax(ctr_boost * ctrs * (virtual_value(valuations) - cvr_boost * cvrs), axis = -1)\n",
    "   rank_score = np.max(ctr_boost * ctrs * (virtual_value(valuations) - cvr_boost * cvrs), axis = -1)\n",
    "   re_rank = np.argsort(rank_score, axis = -1)\n",
    "   highest_idx = re_rank[-1]\n",
    "   second_highest = re_rank[-2]\n",
    "   if rank_score[re_rank[-1]] < 0:\n",
    "      return 0, -1, 0\n",
    "   target = rank_score[second_highest] if rank_score[second_highest] > 0 else 0\n",
    "\n",
    "   allocations = allocation_rule(ctrs[highest_idx], cvrs[highest_idx])\n",
    "   virtual_value_list = np.max(ctr_boost * ctrs[highest_idx] * (virtual_value(x) - cvr_boost * cvrs[highest_idx]),axis = -1)\n",
    "   start = find_index(virtual_value_list, target)\n",
    "   end = find_index(x, valuations[highest_idx])\n",
    "   payment = x[end, 0] * allocations[end] - integrate.trapz(x[start:end, 0], allocations[start:end])\n",
    "\n",
    "   # for i in range(n):\n",
    "   #    allocations_all.append(allocation_rule(ctrs[i], cvrs[i]))\n",
    "   #    best_voucher_arg = np.argmax(ctrs[i] * ctr_boost * (virtual_value(valuations[i]) - cvr_boost * cvrs[i] * voucher))\n",
    "   #    best_vouchers[i] = best_voucher_arg\n",
    "   #    rank_score[i] = np.max(ctrs[i] * ctr_boost * (virtual_value(valuations[i]) - cvr_boost * cvrs[i] * voucher))\n",
    "   # re_rank = np.argsort(rank_score)\n",
    "   # highest_idx = re_rank[-1]\n",
    "   # second_highest_rank_score = rank_score[re_rank[-2]]\n",
    "   # if second_highest_rank_score < 0:\n",
    "   #     second_highest_rank_score = 0\n",
    "   # target = second_highest_rank_score / (ctrs[highest_idx] * ctr_boost[best_vouchers[highest_idx]]) + (cvr_boost[best_vouchers[highest_idx]] * cvrs[highest_idx] * voucher[best_vouchers[highest_idx]])\n",
    "   # if rank_score[re_rank[-1]] < 0:\n",
    "   #    return 0, -1, 0\n",
    "   # 计算payment\n",
    "   # start = find_index(virtual_value_list, target)\n",
    "   # end = find_index(x, valuations[highest_idx])\n",
    "   \n",
    "   # payment = x[end] * allocations[highest_idx][end] - integrate.trapz(x[start:end], allocations[highest_idx][start:end])\n",
    "   return payment, highest_idx, ctrs[highest_idx, 0] * ctr_boost[best_voucher_arg[highest_idx]] * cvr_boost[best_voucher_arg[highest_idx]] * cvrs[highest_idx, 0] * voucher[best_voucher_arg[highest_idx]]"
   ]
  },
  {
   "cell_type": "code",
   "execution_count": 11,
   "metadata": {},
   "outputs": [
    {
     "data": {
      "application/vnd.jupyter.widget-view+json": {
       "model_id": "05c130b59a584fd3bfbf9c6b69fea5a5",
       "version_major": 2,
       "version_minor": 0
      },
      "text/plain": [
       "  0%|          | 0/200 [00:00<?, ?it/s]"
      ]
     },
     "metadata": {},
     "output_type": "display_data"
    }
   ],
   "source": [
    "from tqdm.notebook import tqdm\n",
    "revenues, costs = [], []\n",
    "for i in tqdm(range(200)):\n",
    "    revenue, _, cost = simulate_an_auction(8)\n",
    "    revenues.append(revenue)\n",
    "    costs.append(cost)\n",
    "\n",
    "print(np.mean(revenues))\n",
    "print(np.mean(costs))"
   ]
  },
  {
   "cell_type": "code",
   "execution_count": 6,
   "metadata": {},
   "outputs": [],
   "source": [
    "n = 8\n",
    "ctrs = np.random.uniform(0.005, 0.5, (n, 1))\n",
    "cvrs = np.random.uniform(0.005, 0.5, (n, 1))\n",
    "valuations = lognorm.rvs(s=1, scale=np.exp(3), size=(n, 1))"
   ]
  },
  {
   "cell_type": "code",
   "execution_count": 7,
   "metadata": {},
   "outputs": [
    {
     "data": {
      "text/plain": [
       "array([[11.81071677, 12.98995202, 14.16885338, 15.34742083],\n",
       "       [ 4.32052084,  4.75232256,  5.18407875,  5.61578941],\n",
       "       [-3.33988475, -3.68208395, -4.02577599, -4.3709609 ],\n",
       "       [-0.54670387, -0.60416735, -0.66213867, -0.72061782],\n",
       "       [ 1.72486129,  1.8886155 ,  2.05078209,  2.21136106],\n",
       "       [-2.38009222, -2.61827008, -2.85647859, -3.09471775],\n",
       "       [-3.92646005, -4.32942665, -4.73426971, -5.14098924],\n",
       "       [-1.41838006, -1.56892522, -1.72105351, -1.87476492]])"
      ]
     },
     "execution_count": 7,
     "metadata": {},
     "output_type": "execute_result"
    }
   ],
   "source": [
    "cvr_boost * ctrs * (virtual_value(valuations) - cvr_boost * cvrs)"
   ]
  },
  {
   "cell_type": "code",
   "execution_count": 25,
   "metadata": {},
   "outputs": [
    {
     "data": {
      "application/vnd.jupyter.widget-view+json": {
       "model_id": "5d47df57773d4b9a8382675e77195c37",
       "version_major": 2,
       "version_minor": 0
      },
      "text/plain": [
       "  0%|          | 0/100000 [00:00<?, ?it/s]"
      ]
     },
     "metadata": {},
     "output_type": "display_data"
    },
    {
     "name": "stdout",
     "output_type": "stream",
     "text": [
      "30.644047335447162\n",
      "1.0164969146008966\n"
     ]
    }
   ],
   "source": [
    "from tqdm.notebook import tqdm\n",
    "revenues, costs = [], []\n",
    "for i in tqdm(range(100000)):\n",
    "    revenue, _, cost = simulate_an_auction(8)\n",
    "    revenues.append(revenue)\n",
    "    costs.append(cost)\n",
    "\n",
    "print(np.mean(revenues))\n",
    "print(np.mean(costs))"
   ]
  },
  {
   "cell_type": "code",
   "execution_count": null,
   "metadata": {},
   "outputs": [],
   "source": []
  }
 ],
 "metadata": {
  "kernelspec": {
   "display_name": "auction",
   "language": "python",
   "name": "python3"
  },
  "language_info": {
   "codemirror_mode": {
    "name": "ipython",
    "version": 3
   },
   "file_extension": ".py",
   "mimetype": "text/x-python",
   "name": "python",
   "nbconvert_exporter": "python",
   "pygments_lexer": "ipython3",
   "version": "3.9.19"
  }
 },
 "nbformat": 4,
 "nbformat_minor": 2
}
