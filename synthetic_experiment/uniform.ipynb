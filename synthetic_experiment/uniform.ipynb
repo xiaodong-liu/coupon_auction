{
 "cells": [
  {
   "cell_type": "code",
   "execution_count": 1,
   "id": "initial_id",
   "metadata": {
    "collapsed": true,
    "ExecuteTime": {
     "end_time": "2024-10-01T01:29:40.040378609Z",
     "start_time": "2024-10-01T01:29:39.289401256Z"
    }
   },
   "outputs": [],
   "source": [
    "import numpy as np\n",
    "from scipy.stats import lognorm, uniform\n",
    "import matplotlib.pyplot as plt\n",
    "from scipy import integrate"
   ]
  },
  {
   "cell_type": "code",
   "execution_count": 2,
   "id": "bca0ee5a44ecae6d",
   "metadata": {
    "collapsed": false,
    "ExecuteTime": {
     "end_time": "2024-10-01T01:29:49.969648678Z",
     "start_time": "2024-10-01T01:29:49.959650310Z"
    }
   },
   "outputs": [],
   "source": [
    "# 8个bidder, auction次数1w次, 每个人的value来自于5-50的均匀分布， 初始ctr来自于分布U(0.005, 0.5)，优惠券的价格分别为0， 2， 4， 8\n",
    "# 0 为 1倍 ctr，2为1.1倍ctr, 4为1.2倍ctr, 8为1.3倍ctr\n",
    "# 假设只有ctr，没有cvr的设定\n",
    "\n",
    "ctr_boost = np.array([1, 1.1, 1.2, 1.3])\n",
    "# cvr_boost = np.array([1, 1.1, 1.2, 1.3])\n",
    "voucher = np.array([0, 2, 4, 8])\n",
    "ctrs = np.random.uniform(0.005, 0.5, (50, 8))\n",
    "# cvrs = np.random.uniform(0.005, 0.5, (50, 8))\n",
    "valuations = np.random.uniform(5, 50, (50, 8))\n"
   ]
  },
  {
   "cell_type": "code",
   "execution_count": 12,
   "id": "d05e16b31a59411b",
   "metadata": {
    "collapsed": false
   },
   "outputs": [
    {
     "data": {
      "text/plain": [
       "array([ 0.05  ,  0.0308,  0.0024, -0.0702])"
      ]
     },
     "execution_count": 12,
     "metadata": {},
     "output_type": "execute_result"
    }
   ],
   "source": []
  },
  {
   "cell_type": "code",
   "execution_count": 11,
   "id": "d6020f4f",
   "metadata": {},
   "outputs": [
    {
     "data": {
      "text/plain": [
       "0"
      ]
     },
     "execution_count": 11,
     "metadata": {},
     "output_type": "execute_result"
    }
   ],
   "source": [
    "np.argmax(0.01 * ctr_boost * (5 - cvr_boost * voucher))"
   ]
  },
  {
   "cell_type": "code",
   "execution_count": 2,
   "id": "560b42e9",
   "metadata": {},
   "outputs": [
    {
     "data": {
      "text/plain": [
       "[<matplotlib.lines.Line2D at 0x7f27b17a5640>]"
      ]
     },
     "execution_count": 2,
     "metadata": {},
     "output_type": "execute_result"
    },
    {
     "data": {
      "image/png": "[encoded data removed]",
      "text/plain": [
       "<Figure size 640x480 with 1 Axes>"
      ]
     },
     "metadata": {},
     "output_type": "display_data"
    }
   ],
   "source": [
    "x = np.linspace(uniform.ppf(0.01, loc = 5, scale=45), uniform.ppf(0.99, loc = 5, scale = 45), 1000)\n",
    "def virtual_value(v):\n",
    "    return v - ((1 - uniform.cdf(v, loc = 5, scale = 45)) / uniform.pdf(v, loc = 5, scale = 45))\n",
    "y = virtual_value(x)\n",
    "fig, ax = plt.subplots(1, 1)\n",
    "ax.plot(x, y, 'r-', lw = 5, alpha = 0.6)"
   ]
  },
  {
   "cell_type": "code",
   "execution_count": 18,
   "id": "1eb74bb8",
   "metadata": {},
   "outputs": [
    {
     "data": {
      "text/plain": [
       "array([ 5.45,  6.35,  7.25,  8.15,  9.05,  9.95, 10.85, 11.75, 12.65,\n",
       "       13.55, 14.45, 15.35, 16.25, 17.15, 18.05, 18.95, 19.85, 20.75,\n",
       "       21.65, 22.55, 23.45, 24.35, 25.25, 26.15, 27.05, 27.95, 28.85,\n",
       "       29.75, 30.65, 31.55, 32.45, 33.35, 34.25, 35.15, 36.05, 36.95,\n",
       "       37.85, 38.75, 39.65, 40.55, 41.45, 42.35, 43.25, 44.15, 45.05,\n",
       "       45.95, 46.85, 47.75, 48.65, 49.55])"
      ]
     },
     "execution_count": 18,
     "metadata": {},
     "output_type": "execute_result"
    }
   ],
   "source": [
    "x"
   ]
  },
  {
   "cell_type": "code",
   "execution_count": 3,
   "id": "71d16b7d",
   "metadata": {},
   "outputs": [],
   "source": [
    "def find_index(value_list, k):\n",
    "    l, r = 0, len(value_list) - 1\n",
    "    while(l < r):\n",
    "        mid = (l + r + 1) // 2\n",
    "        if value_list[mid] > k:\n",
    "            r = mid - 1\n",
    "        else:\n",
    "            l = mid\n",
    "    return l"
   ]
  },
  {
   "cell_type": "code",
   "execution_count": 8,
   "id": "c4d37392",
   "metadata": {},
   "outputs": [],
   "source": [
    "virtual_value_list = virtual_value(x)"
   ]
  },
  {
   "cell_type": "code",
   "execution_count": 4,
   "id": "ae9c0367",
   "metadata": {},
   "outputs": [],
   "source": [
    "# 这里考虑的是均匀分布\n",
    "\n",
    "def allocation_rule(ctr, cvr):\n",
    "    allocations = []\n",
    "    generalized_virtual = []\n",
    "    for i in x:\n",
    "        best_voucher_arg = np.argmax(ctr * ctr_boost * (virtual_value(i) - cvr_boost * cvr * voucher))\n",
    "        best_voucher = voucher[best_voucher_arg]\n",
    "        generalized_virtual.append(np.max(ctr * ctr_boost * (virtual_value(i) - cvr_boost * cvr * voucher)))\n",
    "        if virtual_value(i) < 0:\n",
    "            allocations.append(0)\n",
    "        else:\n",
    "            allocations.append(ctr * ctr_boost[best_voucher_arg])\n",
    "    return allocations\n",
    "\n",
    "def simulate_an_auction(n):\n",
    "   '''\n",
    "      n bidders\n",
    "   '''\n",
    "   ctrs = np.random.uniform(0.005, 0.5, (n, ))\n",
    "   cvrs = np.random.uniform(0.005, 0.5, (n, ))\n",
    "   valuations = np.random.uniform(5, 50, (n, ))\n",
    "   rank_score = np.zeros((n, ))\n",
    "   best_vouchers = np.zeros((n, ), dtype=np.int32)\n",
    "   allocations_all = []\n",
    "   for i in range(n):\n",
    "      allocations_all.append(allocation_rule(ctrs[i], cvrs[i]))\n",
    "      best_voucher_arg = np.argmax(ctrs[i] * ctr_boost * (virtual_value(valuations[i]) - cvr_boost * cvrs[i] * voucher))\n",
    "      best_vouchers[i] = best_voucher_arg\n",
    "      rank_score[i] = np.max(ctrs[i] * ctr_boost * (virtual_value(valuations[i]) - cvr_boost * cvrs[i] * voucher))\n",
    "   re_rank = np.argsort(rank_score)\n",
    "   highest_idx = re_rank[-1]\n",
    "   second_highest_score = rank_score[re_rank[-2]]\n",
    "\n",
    "   if second_highest_score < 0:\n",
    "       second_highest_score = 0\n",
    "   target = second_highest_score / (ctrs[highest_idx] * ctr_boost[best_vouchers[highest_idx]]) + (cvr_boost[best_vouchers[highest_idx]] * cvrs[highest_idx] * voucher[best_vouchers[highest_idx]])\n",
    "   if rank_score[re_rank[-1]] < 0:\n",
    "      return 0, -1, 0\n",
    "   # 计算payment\n",
    "   if target < 0:\n",
    "      target = 0\n",
    "   start = find_index(virtual_value_list, target)\n",
    "   end = find_index(x, valuations[highest_idx])\n",
    "   \n",
    "   payment = x[end] * allocations_all[highest_idx][end] - integrate.trapz(x[start:end], allocations_all[highest_idx][start:end])\n",
    "   return payment, highest_idx, ctrs[highest_idx] * ctr_boost[best_vouchers[highest_idx]] * cvr_boost[best_vouchers[highest_idx]] * cvrs[highest_idx] * voucher[best_vouchers[highest_idx]]\n",
    "   "
   ]
  },
  {
   "cell_type": "code",
   "execution_count": 11,
   "id": "b95bf8f6",
   "metadata": {},
   "outputs": [
    {
     "name": "stdout",
     "output_type": "stream",
     "text": [
      "18.166885008876108\n",
      "1.1410839238852997\n"
     ]
    }
   ],
   "source": [
    "# from tqdm.notebook import tqdm\n",
    "# revenues, costs = [], []\n",
    "# for i in tqdm(range(1000)):\n",
    "#     revenue, _, cost = simulate_an_auction(8)\n",
    "#     revenues.append(revenue)\n",
    "#     costs.append(cost)\n",
    "\n",
    "print(np.mean(revenues))\n",
    "print(np.mean(costs))"
   ]
  },
  {
   "cell_type": "code",
   "execution_count": null,
   "id": "2c5efff7",
   "metadata": {},
   "outputs": [],
   "source": []
  },
  {
   "cell_type": "code",
   "execution_count": 26,
   "id": "e9bc9144",
   "metadata": {},
   "outputs": [],
   "source": [
    "\n"
   ]
  },
  {
   "cell_type": "code",
   "execution_count": 32,
   "id": "a2e24694",
   "metadata": {},
   "outputs": [],
   "source": [
    "start = find_index(x, 30)\n",
    "end = find_index(x, 40)"
   ]
  },
  {
   "cell_type": "code",
   "execution_count": 34,
   "id": "0a8d9fe0",
   "metadata": {},
   "outputs": [
    {
     "data": {
      "text/plain": [
       "(29.99414414414414, 39.97072072072072)"
      ]
     },
     "execution_count": 34,
     "metadata": {},
     "output_type": "execute_result"
    }
   ],
   "source": [
    "x[start], x[end]"
   ]
  },
  {
   "cell_type": "code",
   "execution_count": 36,
   "id": "c462ff5c",
   "metadata": {},
   "outputs": [
    {
     "data": {
      "text/plain": [
       "8.460058330987856"
      ]
     },
     "execution_count": 36,
     "metadata": {},
     "output_type": "execute_result"
    }
   ],
   "source": [
    "x[end] * allocations[end] - integrate.trapz(x[start:end], allocations[start:end])"
   ]
  },
  {
   "cell_type": "code",
   "execution_count": 27,
   "id": "8348b90e",
   "metadata": {},
   "outputs": [
    {
     "data": {
      "text/plain": [
       "[<matplotlib.lines.Line2D at 0x7ff89a9fcb20>]"
      ]
     },
     "execution_count": 27,
     "metadata": {},
     "output_type": "execute_result"
    },
    {
     "data": {
      "image/png": "[encoded data removed]",
      "text/plain": [
       "<Figure size 640x480 with 1 Axes>"
      ]
     },
     "metadata": {},
     "output_type": "display_data"
    }
   ],
   "source": [
    "fig, ax = plt.subplots(1, 1)\n",
    "ax.plot(x, allocations)"
   ]
  },
  {
   "cell_type": "code",
   "execution_count": 28,
   "id": "c4c99e4b",
   "metadata": {},
   "outputs": [
    {
     "data": {
      "text/plain": [
       "[<matplotlib.lines.Line2D at 0x7ff89a9e7d90>]"
      ]
     },
     "execution_count": 28,
     "metadata": {},
     "output_type": "execute_result"
    },
    {
     "data": {
      "image/png": "[encoded data removed]",
      "text/plain": [
       "<Figure size 640x480 with 1 Axes>"
      ]
     },
     "metadata": {},
     "output_type": "display_data"
    }
   ],
   "source": [
    "fig, ax = plt.subplots(1, 1)\n",
    "ax.plot(x, generalized_virtual)"
   ]
  },
  {
   "cell_type": "code",
   "execution_count": 29,
   "id": "a18960e0",
   "metadata": {},
   "outputs": [
    {
     "data": {
      "text/plain": [
       "[<matplotlib.lines.Line2D at 0x7ff89a967e50>]"
      ]
     },
     "execution_count": 29,
     "metadata": {},
     "output_type": "execute_result"
    },
    {
     "data": {
      "image/png": "[encoded data removed]",
      "text/plain": [
       "<Figure size 640x480 with 1 Axes>"
      ]
     },
     "metadata": {},
     "output_type": "display_data"
    }
   ],
   "source": [
    "fig, ax = plt.subplots(1, 1)\n",
    "ax.plot(x, ctr * y, 'r-', lw = 5, alpha = 0.6)"
   ]
  },
  {
   "cell_type": "code",
   "execution_count": null,
   "id": "333219d9",
   "metadata": {},
   "outputs": [],
   "source": []
  }
 ],
 "metadata": {
  "kernelspec": {
   "display_name": "Python 3",
   "language": "python",
   "name": "python3"
  },
  "language_info": {
   "codemirror_mode": {
    "name": "ipython",
    "version": 3
   },
   "file_extension": ".py",
   "mimetype": "text/x-python",
   "name": "python",
   "nbconvert_exporter": "python",
   "pygments_lexer": "ipython3",
   "version": "3.8.18"
  }
 },
 "nbformat": 4,
 "nbformat_minor": 5
}
